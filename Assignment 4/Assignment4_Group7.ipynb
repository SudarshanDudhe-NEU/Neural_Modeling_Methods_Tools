{
 "cells": [
  {
   "cell_type": "markdown",
   "metadata": {},
   "source": [
    "# Part1\n",
    "\n",
    "# Adding Two Numbers Using a Dense Neural Network\n",
    "\n",
    "In this implementation, we will train a dense neural network to add two numbers. We will use TensorFlow and Keras for building the model and NumPy for dataset generation.\n"
   ]
  },
  {
   "cell_type": "markdown",
   "metadata": {},
   "source": [
    "## Step 1: Import Libraries"
   ]
  },
  {
   "cell_type": "code",
   "execution_count": 2,
   "metadata": {},
   "outputs": [],
   "source": [
    "import numpy as np\n",
    "import tensorflow as tf\n",
    "from tensorflow.keras.models import Sequential\n",
    "from tensorflow.keras.layers import Dense\n",
    "from sklearn.preprocessing import MinMaxScaler"
   ]
  },
  {
   "cell_type": "markdown",
   "metadata": {},
   "source": [
    "## Step 2: Generate the Dataset\n",
    "\n",
    "Generate a dataset of random integers between 0 and 100. Each sample will consist of a pair of integers, and the target will be their sum:\n"
   ]
  },
  {
   "cell_type": "code",
   "execution_count": 3,
   "metadata": {},
   "outputs": [
    {
     "data": {
      "text/plain": [
       "(array([[ 1, 30],\n",
       "        [43, 52],\n",
       "        [ 6, 34],\n",
       "        ...,\n",
       "        [16, 72],\n",
       "        [69,  0],\n",
       "        [90, 41]]),\n",
       " array([ 31,  95,  40, ...,  88,  69, 131]))"
      ]
     },
     "execution_count": 3,
     "metadata": {},
     "output_type": "execute_result"
    }
   ],
   "source": [
    "# Step 2: Generate the Dataset\n",
    "num_samples = 10000\n",
    "X = np.random.randint(0, 101, size=(num_samples, 2))  # Random integers between 0 and 100\n",
    "y = np.sum(X, axis=1)  # Sum of the pairs\n",
    "X, y"
   ]
  },
  {
   "cell_type": "markdown",
   "metadata": {},
   "source": [
    "## Step 3: Split the Dataset into Training and Testing Sets\n",
    "\n",
    "Split the dataset into training (80%) and testing (20%) sets:\n"
   ]
  },
  {
   "cell_type": "code",
   "execution_count": 4,
   "metadata": {},
   "outputs": [],
   "source": [
    "from sklearn.model_selection import train_test_split\n",
    "# Step 1: Generate the Dataset\n",
    "num_samples = 50000\n",
    "X = np.random.randint(0, 101, size=(num_samples, 2))  # Random integers between 0 and 100\n",
    "y = np.sum(X, axis=1)  # Sum of the pairs\n",
    "\n",
    "# Step 2: Normalize the Dataset\n",
    "scaler = MinMaxScaler()\n",
    "X_normalized = scaler.fit_transform(X)\n",
    "\n",
    "# Step 3: Split the Dataset into Training and Testing Sets\n",
    "X_train, X_test, y_train, y_test = train_test_split(X_normalized, y, test_size=0.2, random_state=42)\n",
    "\n",
    "# # Step 2: Split the Dataset into Training and Testing Sets\n",
    "# X_train, X_test, y_train, y_test = train_test_split(X, y, test_size=0.2, random_state=42)\n"
   ]
  },
  {
   "cell_type": "markdown",
   "metadata": {},
   "source": [
    "## Step 4: Define the Model\n",
    "\n",
    "Create a sequential model with two hidden layers:\n"
   ]
  },
  {
   "cell_type": "code",
   "execution_count": 5,
   "metadata": {},
   "outputs": [
    {
     "name": "stderr",
     "output_type": "stream",
     "text": [
      "/Users/sudarshan/anaconda3/lib/python3.11/site-packages/keras/src/layers/core/dense.py:88: UserWarning: Do not pass an `input_shape`/`input_dim` argument to a layer. When using Sequential models, prefer using an `Input(shape)` object as the first layer in the model instead.\n",
      "  super().__init__(activity_regularizer=activity_regularizer, **kwargs)\n"
     ]
    }
   ],
   "source": [
    "# Step 3: Define the Model\n",
    "model = Sequential()\n",
    "model.add(Dense(16, input_dim=2, activation='relu'))  # First hidden layer\n",
    "model.add(Dense(8, activation='relu'))                  # Second hidden layer\n",
    "model.add(Dense(1))                                     # Output layer\n",
    "\n",
    "# Step 4: Compile the Model\n",
    "model.compile(loss='mean_squared_error', optimizer='adam')"
   ]
  },
  {
   "cell_type": "markdown",
   "metadata": {},
   "source": [
    "## Step 5: Train the Model\n",
    "\n",
    "Train the model for 10 epochs:\n"
   ]
  },
  {
   "cell_type": "code",
   "execution_count": 6,
   "metadata": {},
   "outputs": [
    {
     "name": "stdout",
     "output_type": "stream",
     "text": [
      "Epoch 1/10\n",
      "\u001b[1m1250/1250\u001b[0m \u001b[32m━━━━━━━━━━━━━━━━━━━━\u001b[0m\u001b[37m\u001b[0m \u001b[1m1s\u001b[0m 195us/step - loss: 7833.8135\n",
      "Epoch 2/10\n",
      "\u001b[1m1250/1250\u001b[0m \u001b[32m━━━━━━━━━━━━━━━━━━━━\u001b[0m\u001b[37m\u001b[0m \u001b[1m0s\u001b[0m 187us/step - loss: 258.3909\n",
      "Epoch 3/10\n",
      "\u001b[1m1250/1250\u001b[0m \u001b[32m━━━━━━━━━━━━━━━━━━━━\u001b[0m\u001b[37m\u001b[0m \u001b[1m0s\u001b[0m 188us/step - loss: 79.7098\n",
      "Epoch 4/10\n",
      "\u001b[1m1250/1250\u001b[0m \u001b[32m━━━━━━━━━━━━━━━━━━━━\u001b[0m\u001b[37m\u001b[0m \u001b[1m0s\u001b[0m 188us/step - loss: 4.1906\n",
      "Epoch 5/10\n",
      "\u001b[1m1250/1250\u001b[0m \u001b[32m━━━━━━━━━━━━━━━━━━━━\u001b[0m\u001b[37m\u001b[0m \u001b[1m0s\u001b[0m 189us/step - loss: 0.0058\n",
      "Epoch 6/10\n",
      "\u001b[1m1250/1250\u001b[0m \u001b[32m━━━━━━━━━━━━━━━━━━━━\u001b[0m\u001b[37m\u001b[0m \u001b[1m0s\u001b[0m 189us/step - loss: 9.4823e-04\n",
      "Epoch 7/10\n",
      "\u001b[1m1250/1250\u001b[0m \u001b[32m━━━━━━━━━━━━━━━━━━━━\u001b[0m\u001b[37m\u001b[0m \u001b[1m0s\u001b[0m 192us/step - loss: 6.7315e-04\n",
      "Epoch 8/10\n",
      "\u001b[1m1250/1250\u001b[0m \u001b[32m━━━━━━━━━━━━━━━━━━━━\u001b[0m\u001b[37m\u001b[0m \u001b[1m0s\u001b[0m 191us/step - loss: 5.5390e-04\n",
      "Epoch 9/10\n",
      "\u001b[1m1250/1250\u001b[0m \u001b[32m━━━━━━━━━━━━━━━━━━━━\u001b[0m\u001b[37m\u001b[0m \u001b[1m0s\u001b[0m 190us/step - loss: 5.5683e-04\n",
      "Epoch 10/10\n",
      "\u001b[1m1250/1250\u001b[0m \u001b[32m━━━━━━━━━━━━━━━━━━━━\u001b[0m\u001b[37m\u001b[0m \u001b[1m0s\u001b[0m 195us/step - loss: 6.5842e-04\n"
     ]
    },
    {
     "data": {
      "text/plain": [
       "<keras.src.callbacks.history.History at 0x316a1a510>"
      ]
     },
     "execution_count": 6,
     "metadata": {},
     "output_type": "execute_result"
    }
   ],
   "source": [
    "# Step 5: Train the Model\n",
    "model.fit(X_train, y_train, epochs=10, batch_size=32)"
   ]
  },
  {
   "cell_type": "markdown",
   "metadata": {},
   "source": [
    "## Step 6: Evaluate the Model on the Test Set\n",
    "\n",
    "Predict the sums for the test set and calculate the accuracy based on a defined tolerance level:\n"
   ]
  },
  {
   "cell_type": "code",
   "execution_count": 7,
   "metadata": {},
   "outputs": [
    {
     "name": "stdout",
     "output_type": "stream",
     "text": [
      "\u001b[1m313/313\u001b[0m \u001b[32m━━━━━━━━━━━━━━━━━━━━\u001b[0m\u001b[37m\u001b[0m \u001b[1m0s\u001b[0m 215us/step\n"
     ]
    }
   ],
   "source": [
    "# Step 6: Evaluate the Model on the Test Set\n",
    "y_pred = model.predict(X_test)\n",
    "\n"
   ]
  },
  {
   "cell_type": "markdown",
   "metadata": {},
   "source": [
    "Results\n",
    "Print the model's accuracy:"
   ]
  },
  {
   "cell_type": "code",
   "execution_count": 8,
   "metadata": {},
   "outputs": [
    {
     "data": {
      "text/plain": [
       "array([ 92.99627 , 113.99686 ,  80.994965, ...,  80.9951  , 186.00313 ,\n",
       "        71.99411 ], dtype=float32)"
      ]
     },
     "execution_count": 8,
     "metadata": {},
     "output_type": "execute_result"
    }
   ],
   "source": [
    "y_pred.flatten()"
   ]
  },
  {
   "cell_type": "code",
   "execution_count": 9,
   "metadata": {},
   "outputs": [
    {
     "data": {
      "text/plain": [
       "array([ 93, 114,  81, ...,  81, 186,  72])"
      ]
     },
     "execution_count": 9,
     "metadata": {},
     "output_type": "execute_result"
    }
   ],
   "source": [
    "y_test"
   ]
  },
  {
   "cell_type": "code",
   "execution_count": 10,
   "metadata": {},
   "outputs": [
    {
     "name": "stdout",
     "output_type": "stream",
     "text": [
      "Model Accuracy: 99.91%\n"
     ]
    }
   ],
   "source": [
    "# Calculate accuracy (how many predictions are within a certain tolerance of the actual sums)\n",
    "tolerance = 0.3  # Define a tolerance level for prediction accuracy\n",
    "correct_predictions = np.abs(y_pred.flatten() - y_test) <= tolerance\n",
    "accuracy = np.mean(correct_predictions) * 100  # Convert to percentage\n",
    "\n",
    "# Print results\n",
    "print(f\"Model Accuracy: {accuracy:.2f}%\")"
   ]
  },
  {
   "cell_type": "code",
   "execution_count": 11,
   "metadata": {},
   "outputs": [
    {
     "name": "stdout",
     "output_type": "stream",
     "text": [
      "Model Accuracy: 99.91%\n"
     ]
    }
   ],
   "source": [
    "# Print results\n",
    "print(f\"Model Accuracy: {accuracy:.2f}%\")"
   ]
  },
  {
   "cell_type": "markdown",
   "metadata": {},
   "source": [
    "## Conclusion\n",
    "\n",
    "The dense neural network successfully learned to add two numbers, achieving 100% accuracy on the test set. This demonstrates the model's ability to interpolate addition within the range it was trained on.\n"
   ]
  },
  {
   "cell_type": "markdown",
   "metadata": {},
   "source": [
    "# Part2"
   ]
  },
  {
   "cell_type": "code",
   "execution_count": 12,
   "metadata": {
    "id": "0Y1NF4RbnEXY"
   },
   "outputs": [],
   "source": [
    "import numpy as np\n",
    "import tensorflow as tf\n",
    "from tensorflow.keras.models import Sequential\n",
    "from tensorflow.keras.layers import Dense\n",
    "import matplotlib.pyplot as plt"
   ]
  },
  {
   "cell_type": "code",
   "execution_count": 13,
   "metadata": {
    "id": "MggSD_HlnHHu"
   },
   "outputs": [],
   "source": [
    "# Helper function to generate data\n",
    "def generate_data(n_samples, n_digits):\n",
    "    # Generate two random numbers with the specified number of digits and calculate their sum\n",
    "    X = np.random.randint(0, 10**n_digits, size=(n_samples, 2))\n",
    "    y = np.sum(X, axis=1)\n",
    "    return X, y"
   ]
  },
  {
   "cell_type": "markdown",
   "metadata": {
    "id": "qRcsbgeSsXnx"
   },
   "source": [
    "generate_data: This function generates pairs of random numbers with up to n_digits digits.\n",
    "\n",
    "X: Contains pairs of random integers. For n_digits=3, it generates random integers between 0 and 999.\n",
    "\n",
    "y: The sum of the two numbers in each pair (each row of X).\n",
    "\n",
    "n_samples: The number of such pairs to generate."
   ]
  },
  {
   "cell_type": "code",
   "execution_count": 14,
   "metadata": {
    "id": "PyHrXpGOnMM6"
   },
   "outputs": [],
   "source": [
    "# Function to normalize data (scaling)\n",
    "def normalize_data(X, y, max_val):\n",
    "    X_normalized = X / max_val\n",
    "    y_normalized = y / max_val\n",
    "    return X_normalized, y_normalized\n"
   ]
  },
  {
   "cell_type": "markdown",
   "metadata": {
    "id": "Yn8Js5afschX"
   },
   "source": [
    "normalize_data: This function scales the input and target values to a range between 0 and 1.\n",
    "\n",
    "max_val: The maximum possible value of the sum, based on the number of digits (e.g., max_val = 999 for 3-digit numbers)."
   ]
  },
  {
   "cell_type": "code",
   "execution_count": 15,
   "metadata": {
    "id": "pSIFMDYCnSBo"
   },
   "outputs": [],
   "source": [
    "# Training parameters\n",
    "n_samples = 10000  # Number of training samples\n",
    "n_digits = 3       # Train on 3-digit numbers"
   ]
  },
  {
   "cell_type": "markdown",
   "metadata": {
    "id": "10Gb7Lkisthd"
   },
   "source": [
    "n_samples: Specifies the number of training samples to generate (e.g., 10,000 pairs of 3-digit numbers).\n",
    "\n",
    "n_digits: Specifies that the numbers should have 3 digits."
   ]
  },
  {
   "cell_type": "code",
   "execution_count": 16,
   "metadata": {
    "id": "S2A-yZbFnVlT"
   },
   "outputs": [],
   "source": [
    "X_train, y_train = generate_data(n_samples, n_digits)\n",
    "max_val = 10**(n_digits + 1) - 1  # Max value for sum of two n-digit numbers\n",
    "X_train, y_train = normalize_data(X_train, y_train, max_val)"
   ]
  },
  {
   "cell_type": "markdown",
   "metadata": {
    "id": "4XytwBmqsv11"
   },
   "source": []
  },
  {
   "cell_type": "markdown",
   "metadata": {
    "id": "b59qjwFPsv3u"
   },
   "source": [
    "X_train, y_train: The generated training data with 3-digit numbers and their corresponding sums.\n",
    "\n",
    "max_val: The maximum possible sum of two numbers with n_digits (for 3-digit numbers, the maximum is 1998).\n",
    "\n",
    "Normalization: Both X_train and y_train are normalized between 0 and 1 using max_val."
   ]
  },
  {
   "cell_type": "code",
   "execution_count": 17,
   "metadata": {
    "colab": {
     "base_uri": "https://localhost:8080/"
    },
    "id": "_iGGXGmenZw9",
    "outputId": "1fd6c119-890d-43d2-dff3-40c60b1d2fdf"
   },
   "outputs": [
    {
     "name": "stderr",
     "output_type": "stream",
     "text": [
      "/Users/sudarshan/anaconda3/lib/python3.11/site-packages/keras/src/layers/core/dense.py:88: UserWarning: Do not pass an `input_shape`/`input_dim` argument to a layer. When using Sequential models, prefer using an `Input(shape)` object as the first layer in the model instead.\n",
      "  super().__init__(activity_regularizer=activity_regularizer, **kwargs)\n"
     ]
    }
   ],
   "source": [
    "# Build the dense neural network model\n",
    "model = Sequential()\n",
    "\n",
    "# Input layer with 64 neurons for 2 inputs\n",
    "model.add(Dense(64, input_dim=2, activation='relu'))\n",
    "\n",
    "# Hidden layer with 128 neurons\n",
    "model.add(Dense(128, activation='relu'))\n",
    "\n",
    "# Output layer with 1 neuron and sigmoid activation for sum prediction\n",
    "model.add(Dense(1, activation='sigmoid'))\n",
    "\n",
    "# Compile the model\n",
    "model.compile(optimizer='adam', loss='mean_squared_error')"
   ]
  },
  {
   "cell_type": "markdown",
   "metadata": {
    "id": "TMScA32qs0L8"
   },
   "source": [
    "model = Sequential(): Defines the model as a sequence of layers.\n",
    "\n",
    "Input layer (Dense(64)): A dense layer with 64 neurons. The input_dim=2 specifies that each input is a pair of numbers.\n",
    "\n",
    "Hidden layer (Dense(128)): A dense layer with 128 neurons and the relu activation function.\n",
    "\n",
    "Output layer (Dense(1)): A dense layer with 1 neuron for predicting the sum. The sigmoid activation limits the output between 0 and 1 (since the data is normalized).\n",
    "\n",
    "model.compile: Specifies the optimizer (adam) and the loss function (mean_squared_error), which is appropriate for a regression problem (predicting sums)."
   ]
  },
  {
   "cell_type": "code",
   "execution_count": 18,
   "metadata": {
    "colab": {
     "base_uri": "https://localhost:8080/"
    },
    "id": "BKoI_ngenbJp",
    "outputId": "82113fd5-bf40-45ee-a2a7-d3b2c805ce9b"
   },
   "outputs": [
    {
     "name": "stdout",
     "output_type": "stream",
     "text": [
      "Epoch 1/50\n",
      "\u001b[1m313/313\u001b[0m \u001b[32m━━━━━━━━━━━━━━━━━━━━\u001b[0m\u001b[37m\u001b[0m \u001b[1m1s\u001b[0m 250us/step - loss: 0.0488 \n",
      "Epoch 2/50\n",
      "\u001b[1m313/313\u001b[0m \u001b[32m━━━━━━━━━━━━━━━━━━━━\u001b[0m\u001b[37m\u001b[0m \u001b[1m0s\u001b[0m 242us/step - loss: 0.0020\n",
      "Epoch 3/50\n",
      "\u001b[1m313/313\u001b[0m \u001b[32m━━━━━━━━━━━━━━━━━━━━\u001b[0m\u001b[37m\u001b[0m \u001b[1m0s\u001b[0m 241us/step - loss: 3.8387e-04\n",
      "Epoch 4/50\n",
      "\u001b[1m313/313\u001b[0m \u001b[32m━━━━━━━━━━━━━━━━━━━━\u001b[0m\u001b[37m\u001b[0m \u001b[1m0s\u001b[0m 236us/step - loss: 5.6012e-05\n",
      "Epoch 5/50\n",
      "\u001b[1m313/313\u001b[0m \u001b[32m━━━━━━━━━━━━━━━━━━━━\u001b[0m\u001b[37m\u001b[0m \u001b[1m0s\u001b[0m 241us/step - loss: 3.3953e-05\n",
      "Epoch 6/50\n",
      "\u001b[1m313/313\u001b[0m \u001b[32m━━━━━━━━━━━━━━━━━━━━\u001b[0m\u001b[37m\u001b[0m \u001b[1m0s\u001b[0m 240us/step - loss: 2.8818e-05\n",
      "Epoch 7/50\n",
      "\u001b[1m313/313\u001b[0m \u001b[32m━━━━━━━━━━━━━━━━━━━━\u001b[0m\u001b[37m\u001b[0m \u001b[1m0s\u001b[0m 241us/step - loss: 2.1688e-05\n",
      "Epoch 8/50\n",
      "\u001b[1m313/313\u001b[0m \u001b[32m━━━━━━━━━━━━━━━━━━━━\u001b[0m\u001b[37m\u001b[0m \u001b[1m0s\u001b[0m 238us/step - loss: 1.4776e-05\n",
      "Epoch 9/50\n",
      "\u001b[1m313/313\u001b[0m \u001b[32m━━━━━━━━━━━━━━━━━━━━\u001b[0m\u001b[37m\u001b[0m \u001b[1m0s\u001b[0m 240us/step - loss: 1.0922e-05\n",
      "Epoch 10/50\n",
      "\u001b[1m313/313\u001b[0m \u001b[32m━━━━━━━━━━━━━━━━━━━━\u001b[0m\u001b[37m\u001b[0m \u001b[1m0s\u001b[0m 236us/step - loss: 9.9581e-06\n",
      "Epoch 11/50\n",
      "\u001b[1m313/313\u001b[0m \u001b[32m━━━━━━━━━━━━━━━━━━━━\u001b[0m\u001b[37m\u001b[0m \u001b[1m0s\u001b[0m 238us/step - loss: 9.4857e-06\n",
      "Epoch 12/50\n",
      "\u001b[1m313/313\u001b[0m \u001b[32m━━━━━━━━━━━━━━━━━━━━\u001b[0m\u001b[37m\u001b[0m \u001b[1m0s\u001b[0m 238us/step - loss: 8.8020e-06\n",
      "Epoch 13/50\n",
      "\u001b[1m313/313\u001b[0m \u001b[32m━━━━━━━━━━━━━━━━━━━━\u001b[0m\u001b[37m\u001b[0m \u001b[1m0s\u001b[0m 240us/step - loss: 8.4422e-06\n",
      "Epoch 14/50\n",
      "\u001b[1m313/313\u001b[0m \u001b[32m━━━━━━━━━━━━━━━━━━━━\u001b[0m\u001b[37m\u001b[0m \u001b[1m0s\u001b[0m 239us/step - loss: 9.1050e-06\n",
      "Epoch 15/50\n",
      "\u001b[1m313/313\u001b[0m \u001b[32m━━━━━━━━━━━━━━━━━━━━\u001b[0m\u001b[37m\u001b[0m \u001b[1m0s\u001b[0m 237us/step - loss: 8.8738e-06\n",
      "Epoch 16/50\n",
      "\u001b[1m313/313\u001b[0m \u001b[32m━━━━━━━━━━━━━━━━━━━━\u001b[0m\u001b[37m\u001b[0m \u001b[1m0s\u001b[0m 238us/step - loss: 8.3345e-06\n",
      "Epoch 17/50\n",
      "\u001b[1m313/313\u001b[0m \u001b[32m━━━━━━━━━━━━━━━━━━━━\u001b[0m\u001b[37m\u001b[0m \u001b[1m0s\u001b[0m 241us/step - loss: 8.2566e-06\n",
      "Epoch 18/50\n",
      "\u001b[1m313/313\u001b[0m \u001b[32m━━━━━━━━━━━━━━━━━━━━\u001b[0m\u001b[37m\u001b[0m \u001b[1m0s\u001b[0m 240us/step - loss: 7.9086e-06\n",
      "Epoch 19/50\n",
      "\u001b[1m313/313\u001b[0m \u001b[32m━━━━━━━━━━━━━━━━━━━━\u001b[0m\u001b[37m\u001b[0m \u001b[1m0s\u001b[0m 240us/step - loss: 8.2867e-06\n",
      "Epoch 20/50\n",
      "\u001b[1m313/313\u001b[0m \u001b[32m━━━━━━━━━━━━━━━━━━━━\u001b[0m\u001b[37m\u001b[0m \u001b[1m0s\u001b[0m 237us/step - loss: 8.5801e-06\n",
      "Epoch 21/50\n",
      "\u001b[1m313/313\u001b[0m \u001b[32m━━━━━━━━━━━━━━━━━━━━\u001b[0m\u001b[37m\u001b[0m \u001b[1m0s\u001b[0m 261us/step - loss: 8.3669e-06\n",
      "Epoch 22/50\n",
      "\u001b[1m313/313\u001b[0m \u001b[32m━━━━━━━━━━━━━━━━━━━━\u001b[0m\u001b[37m\u001b[0m \u001b[1m0s\u001b[0m 241us/step - loss: 7.0640e-06\n",
      "Epoch 23/50\n",
      "\u001b[1m313/313\u001b[0m \u001b[32m━━━━━━━━━━━━━━━━━━━━\u001b[0m\u001b[37m\u001b[0m \u001b[1m0s\u001b[0m 240us/step - loss: 5.6782e-06\n",
      "Epoch 24/50\n",
      "\u001b[1m313/313\u001b[0m \u001b[32m━━━━━━━━━━━━━━━━━━━━\u001b[0m\u001b[37m\u001b[0m \u001b[1m0s\u001b[0m 238us/step - loss: 3.4924e-06\n",
      "Epoch 25/50\n",
      "\u001b[1m313/313\u001b[0m \u001b[32m━━━━━━━━━━━━━━━━━━━━\u001b[0m\u001b[37m\u001b[0m \u001b[1m0s\u001b[0m 239us/step - loss: 2.4315e-06\n",
      "Epoch 26/50\n",
      "\u001b[1m313/313\u001b[0m \u001b[32m━━━━━━━━━━━━━━━━━━━━\u001b[0m\u001b[37m\u001b[0m \u001b[1m0s\u001b[0m 238us/step - loss: 1.7831e-06\n",
      "Epoch 27/50\n",
      "\u001b[1m313/313\u001b[0m \u001b[32m━━━━━━━━━━━━━━━━━━━━\u001b[0m\u001b[37m\u001b[0m \u001b[1m0s\u001b[0m 239us/step - loss: 1.4250e-06\n",
      "Epoch 28/50\n",
      "\u001b[1m313/313\u001b[0m \u001b[32m━━━━━━━━━━━━━━━━━━━━\u001b[0m\u001b[37m\u001b[0m \u001b[1m0s\u001b[0m 241us/step - loss: 1.1144e-06\n",
      "Epoch 29/50\n",
      "\u001b[1m313/313\u001b[0m \u001b[32m━━━━━━━━━━━━━━━━━━━━\u001b[0m\u001b[37m\u001b[0m \u001b[1m0s\u001b[0m 243us/step - loss: 1.1157e-06\n",
      "Epoch 30/50\n",
      "\u001b[1m313/313\u001b[0m \u001b[32m━━━━━━━━━━━━━━━━━━━━\u001b[0m\u001b[37m\u001b[0m \u001b[1m0s\u001b[0m 241us/step - loss: 8.8087e-07\n",
      "Epoch 31/50\n",
      "\u001b[1m313/313\u001b[0m \u001b[32m━━━━━━━━━━━━━━━━━━━━\u001b[0m\u001b[37m\u001b[0m \u001b[1m0s\u001b[0m 254us/step - loss: 8.4195e-07\n",
      "Epoch 32/50\n",
      "\u001b[1m313/313\u001b[0m \u001b[32m━━━━━━━━━━━━━━━━━━━━\u001b[0m\u001b[37m\u001b[0m \u001b[1m0s\u001b[0m 242us/step - loss: 7.8659e-07\n",
      "Epoch 33/50\n",
      "\u001b[1m313/313\u001b[0m \u001b[32m━━━━━━━━━━━━━━━━━━━━\u001b[0m\u001b[37m\u001b[0m \u001b[1m0s\u001b[0m 242us/step - loss: 7.5010e-07\n",
      "Epoch 34/50\n",
      "\u001b[1m313/313\u001b[0m \u001b[32m━━━━━━━━━━━━━━━━━━━━\u001b[0m\u001b[37m\u001b[0m \u001b[1m0s\u001b[0m 239us/step - loss: 7.3154e-07\n",
      "Epoch 35/50\n",
      "\u001b[1m313/313\u001b[0m \u001b[32m━━━━━━━━━━━━━━━━━━━━\u001b[0m\u001b[37m\u001b[0m \u001b[1m0s\u001b[0m 239us/step - loss: 6.5847e-07\n",
      "Epoch 36/50\n",
      "\u001b[1m313/313\u001b[0m \u001b[32m━━━━━━━━━━━━━━━━━━━━\u001b[0m\u001b[37m\u001b[0m \u001b[1m0s\u001b[0m 243us/step - loss: 6.3358e-07\n",
      "Epoch 37/50\n",
      "\u001b[1m313/313\u001b[0m \u001b[32m━━━━━━━━━━━━━━━━━━━━\u001b[0m\u001b[37m\u001b[0m \u001b[1m0s\u001b[0m 243us/step - loss: 6.8258e-07\n",
      "Epoch 38/50\n",
      "\u001b[1m313/313\u001b[0m \u001b[32m━━━━━━━━━━━━━━━━━━━━\u001b[0m\u001b[37m\u001b[0m \u001b[1m0s\u001b[0m 243us/step - loss: 5.1298e-07\n",
      "Epoch 39/50\n",
      "\u001b[1m313/313\u001b[0m \u001b[32m━━━━━━━━━━━━━━━━━━━━\u001b[0m\u001b[37m\u001b[0m \u001b[1m0s\u001b[0m 271us/step - loss: 5.8977e-07\n",
      "Epoch 40/50\n",
      "\u001b[1m313/313\u001b[0m \u001b[32m━━━━━━━━━━━━━━━━━━━━\u001b[0m\u001b[37m\u001b[0m \u001b[1m0s\u001b[0m 245us/step - loss: 5.3678e-07\n",
      "Epoch 41/50\n",
      "\u001b[1m313/313\u001b[0m \u001b[32m━━━━━━━━━━━━━━━━━━━━\u001b[0m\u001b[37m\u001b[0m \u001b[1m0s\u001b[0m 246us/step - loss: 4.4315e-07\n",
      "Epoch 42/50\n",
      "\u001b[1m313/313\u001b[0m \u001b[32m━━━━━━━━━━━━━━━━━━━━\u001b[0m\u001b[37m\u001b[0m \u001b[1m0s\u001b[0m 245us/step - loss: 4.4947e-07\n",
      "Epoch 43/50\n",
      "\u001b[1m313/313\u001b[0m \u001b[32m━━━━━━━━━━━━━━━━━━━━\u001b[0m\u001b[37m\u001b[0m \u001b[1m0s\u001b[0m 241us/step - loss: 4.6127e-07\n",
      "Epoch 44/50\n",
      "\u001b[1m313/313\u001b[0m \u001b[32m━━━━━━━━━━━━━━━━━━━━\u001b[0m\u001b[37m\u001b[0m \u001b[1m0s\u001b[0m 241us/step - loss: 5.1022e-07\n",
      "Epoch 45/50\n",
      "\u001b[1m313/313\u001b[0m \u001b[32m━━━━━━━━━━━━━━━━━━━━\u001b[0m\u001b[37m\u001b[0m \u001b[1m0s\u001b[0m 246us/step - loss: 3.8573e-07\n",
      "Epoch 46/50\n",
      "\u001b[1m313/313\u001b[0m \u001b[32m━━━━━━━━━━━━━━━━━━━━\u001b[0m\u001b[37m\u001b[0m \u001b[1m0s\u001b[0m 253us/step - loss: 3.6525e-07\n",
      "Epoch 47/50\n",
      "\u001b[1m313/313\u001b[0m \u001b[32m━━━━━━━━━━━━━━━━━━━━\u001b[0m\u001b[37m\u001b[0m \u001b[1m0s\u001b[0m 243us/step - loss: 4.4303e-07\n",
      "Epoch 48/50\n",
      "\u001b[1m313/313\u001b[0m \u001b[32m━━━━━━━━━━━━━━━━━━━━\u001b[0m\u001b[37m\u001b[0m \u001b[1m0s\u001b[0m 243us/step - loss: 5.8771e-07\n",
      "Epoch 49/50\n",
      "\u001b[1m313/313\u001b[0m \u001b[32m━━━━━━━━━━━━━━━━━━━━\u001b[0m\u001b[37m\u001b[0m \u001b[1m0s\u001b[0m 243us/step - loss: 2.7046e-07\n",
      "Epoch 50/50\n",
      "\u001b[1m313/313\u001b[0m \u001b[32m━━━━━━━━━━━━━━━━━━━━\u001b[0m\u001b[37m\u001b[0m \u001b[1m0s\u001b[0m 244us/step - loss: 4.0795e-07\n"
     ]
    }
   ],
   "source": [
    "history = model.fit(X_train, y_train, epochs=50, batch_size=32, verbose=1)"
   ]
  },
  {
   "cell_type": "markdown",
   "metadata": {
    "id": "ZD4usBgKs54j"
   },
   "source": [
    "\n",
    "model.fit: Trains the model for 2000 epochs on batches of 32 samples. The training history, including the loss per epoch, is stored in history."
   ]
  },
  {
   "cell_type": "code",
   "execution_count": 19,
   "metadata": {
    "colab": {
     "base_uri": "https://localhost:8080/",
     "height": 487
    },
    "id": "VtDllyN0pAm6",
    "outputId": "48ba04a9-5e33-44e1-9473-5441bf309f57"
   },
   "outputs": [
    {
     "data": {
      "image/png": "[encoded data removed]",
      "text/plain": [
       "<Figure size 1000x500 with 1 Axes>"
      ]
     },
     "metadata": {},
     "output_type": "display_data"
    }
   ],
   "source": [
    "# Plot training loss over epochs\n",
    "plt.figure(figsize=(10, 5))\n",
    "plt.plot(history.history['loss'])\n",
    "plt.title('Model Loss During Training')\n",
    "plt.ylabel('Loss (MSE)')\n",
    "plt.xlabel('Epoch')\n",
    "plt.grid(True)\n",
    "plt.show()"
   ]
  },
  {
   "cell_type": "code",
   "execution_count": 20,
   "metadata": {
    "id": "EJrcFgBQpCjD"
   },
   "outputs": [],
   "source": [
    "n_test_samples = 100\n",
    "X_test, y_test = generate_data(n_test_samples, n_digits + 1)  # 4-digit numbers\n",
    "X_test_normalized, y_test_normalized = normalize_data(X_test, y_test, max_val * 10)"
   ]
  },
  {
   "cell_type": "markdown",
   "metadata": {
    "id": "PCN5MOystQnw"
   },
   "source": [
    "Testing with 4-digit numbers: This generates test data with 4-digit numbers (instead of the 3-digit numbers used for training) to test if the model can generalize.\n",
    "\n",
    "Normalization: The 4-digit numbers and their sums are normalized, with max_val adjusted for the larger numbers.\n"
   ]
  },
  {
   "cell_type": "code",
   "execution_count": 21,
   "metadata": {
    "colab": {
     "base_uri": "https://localhost:8080/"
    },
    "id": "JmVp_VtapGC9",
    "outputId": "5ebea102-d8e4-4bb0-b79f-32d73fba6f6e"
   },
   "outputs": [
    {
     "name": "stdout",
     "output_type": "stream",
     "text": [
      "\u001b[1m4/4\u001b[0m \u001b[32m━━━━━━━━━━━━━━━━━━━━\u001b[0m\u001b[37m\u001b[0m \u001b[1m0s\u001b[0m 4ms/step \n"
     ]
    }
   ],
   "source": [
    "predictions = model.predict(X_test_normalized)"
   ]
  },
  {
   "cell_type": "markdown",
   "metadata": {
    "id": "1pFFl8XmtWRC"
   },
   "source": [
    "model.predict: The trained model predicts the sum for each pair of 4-digit numbers. These predictions are in the normalized form (between 0 and 1)."
   ]
  },
  {
   "cell_type": "code",
   "execution_count": 22,
   "metadata": {
    "id": "t0-2AM-9pKsT"
   },
   "outputs": [],
   "source": [
    "predictions_denormalized = predictions * (max_val * 10)\n",
    "y_test_denormalized = y_test"
   ]
  },
  {
   "cell_type": "markdown",
   "metadata": {
    "id": "gGwZNEBAtay1"
   },
   "source": [
    "Denormalizing: Converts the normalized predictions back to the original scale (i.e., the actual sum of the numbers). The max_val * 10 is used because we're testing on 4-digit numbers."
   ]
  },
  {
   "cell_type": "code",
   "execution_count": 23,
   "metadata": {
    "colab": {
     "base_uri": "https://localhost:8080/",
     "height": 53
    },
    "id": "_drnjuK4pPCt",
    "outputId": "71fa6f45-2680-46c0-9b34-38a4ea849565"
   },
   "outputs": [
    {
     "data": {
      "text/plain": [
       "<Figure size 1200x600 with 0 Axes>"
      ]
     },
     "execution_count": 23,
     "metadata": {},
     "output_type": "execute_result"
    },
    {
     "data": {
      "text/plain": [
       "<Figure size 1200x600 with 0 Axes>"
      ]
     },
     "metadata": {},
     "output_type": "display_data"
    }
   ],
   "source": [
    "plt.figure(figsize=(12, 6))"
   ]
  },
  {
   "cell_type": "code",
   "execution_count": 24,
   "metadata": {
    "colab": {
     "base_uri": "https://localhost:8080/",
     "height": 472
    },
    "id": "ef9BdaHQpQKn",
    "outputId": "8fbface6-c710-4941-a98b-b39dd7c7ac3e"
   },
   "outputs": [
    {
     "data": {
      "image/png": "[encoded data removed]",
      "text/plain": [
       "<Figure size 640x480 with 1 Axes>"
      ]
     },
     "metadata": {},
     "output_type": "display_data"
    }
   ],
   "source": [
    "plt.subplot(1, 2, 1)\n",
    "plt.scatter(y_test_normalized, predictions, alpha=0.7)\n",
    "plt.title('Predicted vs Actual (Before Denormalization)')\n",
    "plt.xlabel('Actual Normalized Sum')\n",
    "plt.ylabel('Predicted Normalized Sum')\n",
    "plt.grid(True)"
   ]
  },
  {
   "cell_type": "markdown",
   "metadata": {
    "id": "-d_X3IwdtjO6"
   },
   "source": [
    "Training Loss Plot: Plots the loss (mean squared error) over the training epochs. This helps visualize how well the model is learning."
   ]
  },
  {
   "cell_type": "code",
   "execution_count": 25,
   "metadata": {
    "colab": {
     "base_uri": "https://localhost:8080/",
     "height": 472
    },
    "id": "b1iMBc3lpTnW",
    "outputId": "af599021-4a51-48c5-8ee8-ea145a1fda8a"
   },
   "outputs": [
    {
     "data": {
      "image/png": "[encoded data removed]",
      "text/plain": [
       "<Figure size 640x480 with 1 Axes>"
      ]
     },
     "metadata": {},
     "output_type": "display_data"
    }
   ],
   "source": [
    "# After denormalization\n",
    "plt.subplot(1, 2, 2)\n",
    "plt.scatter(y_test_denormalized, predictions_denormalized, alpha=0.7)\n",
    "plt.title('Predicted vs Actual (After Denormalization)')\n",
    "plt.xlabel('Actual Sum')\n",
    "plt.ylabel('Predicted Sum')\n",
    "plt.grid(True)"
   ]
  },
  {
   "cell_type": "markdown",
   "metadata": {
    "id": "U9AdCTi2tpD5"
   },
   "source": [
    "Before Denormalization Plot: Scatter plot comparing the predicted vs actual normalized sums.\n",
    "After Denormalization Plot: Scatter plot comparing the predicted vs actual denormalized sums."
   ]
  },
  {
   "cell_type": "code",
   "execution_count": 26,
   "metadata": {
    "colab": {
     "base_uri": "https://localhost:8080/",
     "height": 35
    },
    "id": "ggLYPCaapZES",
    "outputId": "557f1f25-e645-42a3-fc4e-26b24a867f4a"
   },
   "outputs": [
    {
     "data": {
      "text/plain": [
       "<Figure size 640x480 with 0 Axes>"
      ]
     },
     "metadata": {},
     "output_type": "display_data"
    }
   ],
   "source": [
    "plt.tight_layout()\n",
    "plt.show()"
   ]
  },
  {
   "cell_type": "code",
   "execution_count": 27,
   "metadata": {
    "colab": {
     "base_uri": "https://localhost:8080/"
    },
    "id": "q8rLBEf4pd-m",
    "outputId": "ca1fb385-4a1f-4dcd-ee50-9e822209a41a"
   },
   "outputs": [
    {
     "name": "stdout",
     "output_type": "stream",
     "text": [
      "Input numbers: [3888 6905], Predicted sum: 10771.60, Actual sum: 10793\n",
      "Input numbers: [7487 2867], Predicted sum: 10314.43, Actual sum: 10354\n",
      "Input numbers: [   9 5047], Predicted sum: 5020.63, Actual sum: 5056\n",
      "Input numbers: [6152 5455], Predicted sum: 11582.22, Actual sum: 11607\n",
      "Input numbers: [1269 9651], Predicted sum: 10912.20, Actual sum: 10920\n"
     ]
    }
   ],
   "source": [
    "for i in range(5):\n",
    "    print(f\"Input numbers: {X_test[i]}, Predicted sum: {predictions_denormalized[i][0]:.2f}, Actual sum: {y_test_denormalized[i]}\")"
   ]
  },
  {
   "cell_type": "markdown",
   "metadata": {
    "id": "ZgfxbgjOtrkS"
   },
   "source": [
    "Sample Results: Displays the input numbers, the predicted sum, and the actual sum for 5 test cases. This provides a quick view of how well the model is performing on specific examples.\n"
   ]
  },
  {
   "cell_type": "markdown",
   "metadata": {
    "id": "c0NVDlygrPX_"
   },
   "source": [
    "Goal:\n",
    "Train a dense neural network to add two numbers with up to 3 digits.\n",
    "During inference, provide two numbers with 4 digits (which the network has never seen) and test whether the network can predict their sum.\n",
    "Analyze if the network can generalize the task of addition, even though it has been trained on 3-digit numbers only."
   ]
  },
  {
   "cell_type": "markdown",
   "metadata": {
    "id": "goUPQNG4rQX3"
   },
   "source": [
    "Can the Network Predict 4-digit Numbers Correctly?\n",
    "\n",
    "No, the network is unlikely to predict the sum of 4-digit numbers accurately.\n",
    "\n",
    "Why not?:\n",
    "\n",
    "**Lack of Explicit Rule Learning**: The neural network does not learn the actual rules of addition (like carrying over) as we do in school. Instead, it learns patterns in the data. Since the network has only seen numbers up to 999 during training, it hasn't learned how to handle sums of larger numbers like 4-digit ones (e.g., 2345 + 5678).\n",
    "\n",
    "**Extrapolation Issue:** Neural networks typically struggle with extrapolation—that is, making predictions outside the range of their training data. A model trained only on 3-digit numbers may learn to predict within that range but will fail when faced with larger numbers because the relationship between input and output might differ for larger numbers.\n",
    "\n",
    "**Generalization in Arithmetic:** Addition is a highly structured and rule-based operation. Dense networks are good at learning continuous patterns but aren't as effective at learning the step-by-step, discrete operations like \"carrying over\" that are required for multi-digit addition.\n",
    "\n",
    "**Example Scenario:**\n",
    "If the network was trained on numbers like 123 + 456, it will predict well for numbers in the same range.\n",
    "\n",
    "When you give it numbers like 1234 + 5678 (4-digit numbers), the network will struggle because it hasn't learned the rule of carrying digits or how the magnitude of numbers increases with each additional digit. Its weights are tuned to handle inputs within the range of 3-digit numbers.\n"
   ]
  },
  {
   "cell_type": "markdown",
   "metadata": {
    "id": "IH0YQi9zrsgo"
   },
   "source": [
    "# Conclusion\n",
    "\n",
    "## Why Neural Networks Struggle in This Case\n",
    "\n",
    "Neural networks, particularly dense networks, don't learn abstract rules like we do in school. They rely on statistical patterns in the data. Arithmetic, specifically addition, involves strict rules such as place-value operations and carrying, which the network does not explicitly learn unless explicitly programmed or trained using different strategies (e.g., recurrent networks, digit-by-digit learning).\n",
    "\n",
    "### Why Neural Networks Struggle with Extrapolation: Lack of Rule Learning\n",
    "\n",
    "Neural networks learn statistical patterns rather than explicit arithmetic rules. When presented with numbers beyond their training scope (e.g., 4-digit numbers), they may fail to apply the addition rules they weren't explicitly trained to understand.\n",
    "\n",
    "### Extrapolation Issues\n",
    "\n",
    "Extrapolation—predicting values outside the training range—is challenging for neural networks. They can interpolate well within the ranges seen during training but often perform poorly outside those ranges. For example, a model trained on 3-digit numbers lacks the capacity to handle the carrying over that is necessary for adding 4-digit numbers.\n",
    "\n",
    "### Generalization in Arithmetic\n",
    "\n",
    "Addition is a structured operation requiring an understanding of place value and carrying. Dense networks are not designed for this kind of discrete reasoning.\n",
    "\n",
    "### Human Learning vs. Neural Networks\n",
    "\n",
    "In school, we learn to add numbers of any size using the rules of addition (carry over, place value, etc.). Dense neural networks, on the other hand, can approximate these operations within a limited scope (e.g., 3-digit numbers), but they are not designed to generalize these rules beyond the range they were trained on.\n",
    "\n",
    "# **Final Answer:**\n",
    "\n",
    "The code does not fulfill the ability to add numbers with an extra digit correctly. It demonstrates a common limitation of neural networks, especially for tasks like arithmetic, which require precise rule-based logic rather than pattern recognition.\n"
   ]
  },
  {
   "cell_type": "markdown",
   "metadata": {
    "id": "GQqTWsymtxxf"
   },
   "source": []
  },
  {
   "cell_type": "markdown",
   "metadata": {
    "id": "R-PKFeVdtyhN"
   },
   "source": [
    "# Part 3"
   ]
  },
  {
   "cell_type": "markdown",
   "metadata": {
    "id": "c_HHdOdjuAZR"
   },
   "source": [
    "# Difference Between Dense Networks and Recurrent Networks\n",
    "\n",
    "In a **dense network** (also known as a fully connected network), every neuron in one layer is connected to every neuron in the next layer. These networks process the input data in one step, without considering any relationship or dependency between sequential inputs. Dense networks are suitable for tasks where the input features are independent of each other, such as image classification or regression tasks.\n",
    "\n",
    "On the other hand, **recurrent networks (RNNs)** are specifically designed to handle sequential data, where the order of the input matters. In an RNN, each neuron not only receives the current input but also information from the previous steps (i.e., it \"remembers\" past inputs). This makes RNNs ideal for tasks like time series prediction, language modeling, or any task where past inputs influence future outputs. Unlike dense networks, recurrent networks maintain an internal state that gets updated over time, allowing them to process data with temporal or sequential dependencies.\n",
    "\n",
    "## Key Differences\n",
    "\n",
    "- **Handling of Sequential Information**:\n",
    "  - Dense Networks: Process inputs independently.\n",
    "  - Recurrent Networks: Capture patterns in sequences by considering the relationships between inputs across time steps.\n"
   ]
  }
 ],
 "metadata": {
  "colab": {
   "provenance": []
  },
  "kernelspec": {
   "display_name": "Python 3 (ipykernel)",
   "language": "python",
   "name": "python3"
  },
  "language_info": {
   "codemirror_mode": {
    "name": "ipython",
    "version": 3
   },
   "file_extension": ".py",
   "mimetype": "text/x-python",
   "name": "python",
   "nbconvert_exporter": "python",
   "pygments_lexer": "ipython3",
   "version": "3.11.5"
  }
 },
 "nbformat": 4,
 "nbformat_minor": 1
}
